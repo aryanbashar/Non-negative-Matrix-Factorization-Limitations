{
 "cells": [
  {
   "cell_type": "markdown",
   "id": "0fb2855f",
   "metadata": {},
   "source": [
    "## Section 1:"
   ]
  },
  {
   "cell_type": "code",
   "execution_count": 2,
   "id": "d95ab7d3",
   "metadata": {},
   "outputs": [],
   "source": [
    "import pandas as pd\n",
    "from sklearn.metrics import mean_squared_error\n",
    "from sklearn.model_selection import train_test_split\n",
    "from sklearn.decomposition import NMF\n",
    "from math import sqrt"
   ]
  },
  {
   "cell_type": "code",
   "execution_count": 4,
   "id": "6a3da180",
   "metadata": {},
   "outputs": [],
   "source": [
    "train_data = pd.read_csv(r\"C:\\Users\\aryan\\Downloads\\Movie Ratings Data\\train.csv\")\n",
    "test_data = pd.read_csv(r\"C:\\Users\\aryan\\Downloads\\Movie Ratings Data\\test.csv\")\n",
    "MV_movies = pd.read_csv(r\"C:\\Users\\aryan\\Downloads\\Movie Ratings Data\\movies.csv\")\n",
    "MV_users = pd.read_csv(r\"C:\\Users\\aryan\\Downloads\\Movie Ratings Data\\users.csv\")"
   ]
  },
  {
   "cell_type": "code",
   "execution_count": 5,
   "id": "c2058946",
   "metadata": {},
   "outputs": [
    {
     "data": {
      "text/html": [
       "<div>\n",
       "<style scoped>\n",
       "    .dataframe tbody tr th:only-of-type {\n",
       "        vertical-align: middle;\n",
       "    }\n",
       "\n",
       "    .dataframe tbody tr th {\n",
       "        vertical-align: top;\n",
       "    }\n",
       "\n",
       "    .dataframe thead th {\n",
       "        text-align: right;\n",
       "    }\n",
       "</style>\n",
       "<table border=\"1\" class=\"dataframe\">\n",
       "  <thead>\n",
       "    <tr style=\"text-align: right;\">\n",
       "      <th></th>\n",
       "      <th>uID</th>\n",
       "      <th>mID</th>\n",
       "      <th>rating</th>\n",
       "    </tr>\n",
       "  </thead>\n",
       "  <tbody>\n",
       "    <tr>\n",
       "      <th>0</th>\n",
       "      <td>744</td>\n",
       "      <td>1210</td>\n",
       "      <td>5</td>\n",
       "    </tr>\n",
       "    <tr>\n",
       "      <th>1</th>\n",
       "      <td>3040</td>\n",
       "      <td>1584</td>\n",
       "      <td>4</td>\n",
       "    </tr>\n",
       "    <tr>\n",
       "      <th>2</th>\n",
       "      <td>1451</td>\n",
       "      <td>1293</td>\n",
       "      <td>5</td>\n",
       "    </tr>\n",
       "    <tr>\n",
       "      <th>3</th>\n",
       "      <td>5455</td>\n",
       "      <td>3176</td>\n",
       "      <td>2</td>\n",
       "    </tr>\n",
       "    <tr>\n",
       "      <th>4</th>\n",
       "      <td>2507</td>\n",
       "      <td>3074</td>\n",
       "      <td>5</td>\n",
       "    </tr>\n",
       "  </tbody>\n",
       "</table>\n",
       "</div>"
      ],
      "text/plain": [
       "    uID   mID  rating\n",
       "0   744  1210       5\n",
       "1  3040  1584       4\n",
       "2  1451  1293       5\n",
       "3  5455  3176       2\n",
       "4  2507  3074       5"
      ]
     },
     "execution_count": 5,
     "metadata": {},
     "output_type": "execute_result"
    }
   ],
   "source": [
    "train_data.head()"
   ]
  },
  {
   "cell_type": "code",
   "execution_count": 6,
   "id": "8dcefca1",
   "metadata": {},
   "outputs": [
    {
     "data": {
      "text/html": [
       "<div>\n",
       "<style scoped>\n",
       "    .dataframe tbody tr th:only-of-type {\n",
       "        vertical-align: middle;\n",
       "    }\n",
       "\n",
       "    .dataframe tbody tr th {\n",
       "        vertical-align: top;\n",
       "    }\n",
       "\n",
       "    .dataframe thead th {\n",
       "        text-align: right;\n",
       "    }\n",
       "</style>\n",
       "<table border=\"1\" class=\"dataframe\">\n",
       "  <thead>\n",
       "    <tr style=\"text-align: right;\">\n",
       "      <th></th>\n",
       "      <th>uID</th>\n",
       "      <th>mID</th>\n",
       "      <th>rating</th>\n",
       "    </tr>\n",
       "  </thead>\n",
       "  <tbody>\n",
       "    <tr>\n",
       "      <th>0</th>\n",
       "      <td>2233</td>\n",
       "      <td>440</td>\n",
       "      <td>4</td>\n",
       "    </tr>\n",
       "    <tr>\n",
       "      <th>1</th>\n",
       "      <td>4274</td>\n",
       "      <td>587</td>\n",
       "      <td>5</td>\n",
       "    </tr>\n",
       "    <tr>\n",
       "      <th>2</th>\n",
       "      <td>2498</td>\n",
       "      <td>454</td>\n",
       "      <td>3</td>\n",
       "    </tr>\n",
       "    <tr>\n",
       "      <th>3</th>\n",
       "      <td>2868</td>\n",
       "      <td>2336</td>\n",
       "      <td>5</td>\n",
       "    </tr>\n",
       "    <tr>\n",
       "      <th>4</th>\n",
       "      <td>1636</td>\n",
       "      <td>2686</td>\n",
       "      <td>5</td>\n",
       "    </tr>\n",
       "  </tbody>\n",
       "</table>\n",
       "</div>"
      ],
      "text/plain": [
       "    uID   mID  rating\n",
       "0  2233   440       4\n",
       "1  4274   587       5\n",
       "2  2498   454       3\n",
       "3  2868  2336       5\n",
       "4  1636  2686       5"
      ]
     },
     "execution_count": 6,
     "metadata": {},
     "output_type": "execute_result"
    }
   ],
   "source": [
    "test_data.head()"
   ]
  },
  {
   "cell_type": "code",
   "execution_count": 7,
   "id": "68b09ec1",
   "metadata": {},
   "outputs": [],
   "source": [
    "# Merge the train and test data for matrix factorization\n",
    "all_data = pd.concat([train_data, test_data])"
   ]
  },
  {
   "cell_type": "code",
   "execution_count": 8,
   "id": "8a1e42cc",
   "metadata": {},
   "outputs": [],
   "source": [
    "# Pivot the data to create the user-item matrix\n",
    "ratings_matrix = all_data.pivot(index='uID', columns='mID', values='rating').fillna(0)"
   ]
  },
  {
   "cell_type": "code",
   "execution_count": 9,
   "id": "963f93c6",
   "metadata": {},
   "outputs": [],
   "source": [
    "# Split the data for matrix factorization\n",
    "X_train, X_test = train_test_split(ratings_matrix, test_size=0.2, random_state=42)"
   ]
  },
  {
   "cell_type": "code",
   "execution_count": 40,
   "id": "20709976",
   "metadata": {},
   "outputs": [],
   "source": [
    "# Perform matrix factorization using Non-negative matrix factorization (NMF)\n",
    "nmf = NMF(n_components=10, init='random', random_state=42)\n",
    "X_train_nmf = nmf.fit_transform(X_train)\n",
    "X_test_nmf = nmf.transform(X_test)"
   ]
  },
  {
   "cell_type": "code",
   "execution_count": 41,
   "id": "d1ba32b8",
   "metadata": {},
   "outputs": [],
   "source": [
    "# Reconstruct the matrix\n",
    "ratings_matrix_predicted = pd.DataFrame(nmf.inverse_transform(X_test_nmf), index=X_test.index, columns=X_test.columns)"
   ]
  },
  {
   "cell_type": "code",
   "execution_count": 42,
   "id": "aefd6712",
   "metadata": {},
   "outputs": [],
   "source": [
    "# Merge the predicted ratings with test data on user and movie IDs\n",
    "test_data_predicted = test_data.merge(ratings_matrix_predicted.stack().reset_index(name='predicted_rating'), \n",
    "                                     on=['uID', 'mID'], how='left')\n"
   ]
  },
  {
   "cell_type": "code",
   "execution_count": 43,
   "id": "ae4b2c03",
   "metadata": {},
   "outputs": [
    {
     "name": "stdout",
     "output_type": "stream",
     "text": [
      "Root Mean Squared Error (RMSE): 3.562539660933409\n"
     ]
    }
   ],
   "source": [
    "# Replace the empty values with 0\n",
    "test_data_predicted['predicted_rating'].fillna(0, inplace=True)\n",
    "\n",
    "# Calculate the Root Mean Squared Error (RMSE)\n",
    "rmse = sqrt(mean_squared_error(test_data_predicted['rating'], test_data_predicted['predicted_rating']))\n",
    "print(\"Root Mean Squared Error (RMSE):\", rmse)"
   ]
  },
  {
   "cell_type": "markdown",
   "id": "ca53d8bb",
   "metadata": {},
   "source": [
    "## Section 2:\n",
    "\n",
    "### Conclusion:\n",
    "\n",
    "The Root Mean Squared Error (RMSE) is the square root of the average of the squared differences between the actual ratings and the predicted ratings. A lower RMSE would mean superior performance in predicting movie ratings. The RMSE of 3.563 can be explained in that the model’s predictions are off from actual rating by 3.563 units. We may conclude that non-negative matrix factorization (NMF) approach did not perform adequately. This could be to multiple reasons such as issues in the data. For NMF specifically, it is a technique that adds more complexity to the model compared to simple baseline methods and so the choice of the number of components can play a role in the predictions. NMF may also miss certain patterns in the data since it enforces non-negativity constraints on the learned factors. If the data has negative correlations within it, then these relationships would be missed. To improve it, we can optimize the hyperparameters and see how changing components, latent factors, test size, strength of regularization. The data could be preprocessed to prepare it better for the NMF model . We can also investigate gathering more information in the data like user demographics. \n"
   ]
  },
  {
   "cell_type": "markdown",
   "id": "c4730f81",
   "metadata": {},
   "source": [
    "### Citation:\n",
    "\n",
    "Naik, G. R. (2016). *Non-negative matrix factorization techniques: Advances in Theory and Applications.* Springer.\n",
    "\n",
    "*MovieLens*. (2021, December 8). GroupLens. https://grouplens.org/datasets/movielens/"
   ]
  }
 ],
 "metadata": {
  "kernelspec": {
   "display_name": "Python 3 (ipykernel)",
   "language": "python",
   "name": "python3"
  },
  "language_info": {
   "codemirror_mode": {
    "name": "ipython",
    "version": 3
   },
   "file_extension": ".py",
   "mimetype": "text/x-python",
   "name": "python",
   "nbconvert_exporter": "python",
   "pygments_lexer": "ipython3",
   "version": "3.9.12"
  }
 },
 "nbformat": 4,
 "nbformat_minor": 5
}
